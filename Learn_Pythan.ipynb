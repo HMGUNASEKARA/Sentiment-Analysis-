{
 "cells": [
  {
   "cell_type": "code",
   "execution_count": 2,
   "id": "c8587348-b5ea-46a6-8755-49a20c5b6892",
   "metadata": {},
   "outputs": [
    {
     "name": "stdout",
     "output_type": "stream",
     "text": [
      "4\n",
      "8\n"
     ]
    }
   ],
   "source": [
    "squre = lambda x:x**2\n",
    "print(squre(2))\n",
    "\n",
    "add = lambda y,v:y+v\n",
    "print(add(3,5))"
   ]
  },
  {
   "cell_type": "code",
   "execution_count": 4,
   "id": "55aa7468-13bf-4c1f-8e82-74ea6aefda3a",
   "metadata": {},
   "outputs": [
    {
     "name": "stdout",
     "output_type": "stream",
     "text": [
      "[2, 4]\n",
      "[2, 4, 6, 8, 10]\n"
     ]
    }
   ],
   "source": [
    "nums = [1,2,3,4,5]\n",
    "\n",
    "even = list(filter(lambda x: x%2 ==0,nums))  # Filter used when add the values function retun true\n",
    "every = list(map(lambda x : x*2,nums)) # map used to , do the  function for all the element \n",
    "\n",
    "print(even)\n",
    "print(every)"
   ]
  },
  {
   "cell_type": "code",
   "execution_count": 5,
   "id": "71494f97-6681-4bc2-9b26-b9386f0bf812",
   "metadata": {},
   "outputs": [],
   "source": [
    "# Understand the apply function. \n",
    "# Apply used only with Pandas package.\n",
    "import pandas as pd "
   ]
  },
  {
   "cell_type": "code",
   "execution_count": 7,
   "id": "6bdba30f-a274-4cb7-858b-73feca60a3a7",
   "metadata": {},
   "outputs": [
    {
     "name": "stdout",
     "output_type": "stream",
     "text": [
      "   x  y\n",
      "0  1  5\n",
      "1  2  3\n",
      "2  3  6\n",
      "    x  y\n",
      "0  20  5\n",
      "1  40  3\n",
      "2  60  6\n"
     ]
    }
   ],
   "source": [
    "data = pd. DataFrame({\n",
    "    'x':[1,2,3],\n",
    "    'y':[5,3,6]\n",
    "})\n",
    "print(data)\n",
    "\n",
    "data['x'] = data['x'].apply(lambda u:u*20)  This apply function tell go one by one \n",
    "print(data)"
   ]
  },
  {
   "cell_type": "markdown",
   "id": "9fb0e603-3bd0-4534-9934-afb1df85da0c",
   "metadata": {},
   "source": [
    "#### Get the idea how Counter finction work"
   ]
  },
  {
   "cell_type": "code",
   "execution_count": 9,
   "id": "9535eb8d-bf8d-4d7e-a944-1947587b4835",
   "metadata": {},
   "outputs": [],
   "source": [
    "from  collections import Counter\n",
    "vocab = Counter()"
   ]
  },
  {
   "cell_type": "code",
   "execution_count": 10,
   "id": "ae6e4c98-7d65-433d-9062-5f37c9028fa4",
   "metadata": {},
   "outputs": [],
   "source": [
    "test = ['java','python','java','C++','java','python','python']\n",
    "vocab.update(test)  # By using this we can count how many unique words available in the data set "
   ]
  },
  {
   "cell_type": "code",
   "execution_count": 11,
   "id": "72af2343-9fe3-413d-93f7-d05a539a0a1f",
   "metadata": {},
   "outputs": [
    {
     "data": {
      "text/plain": [
       "Counter({'java': 3, 'python': 3, 'C++': 1})"
      ]
     },
     "execution_count": 11,
     "metadata": {},
     "output_type": "execute_result"
    }
   ],
   "source": [
    "vocab"
   ]
  }
 ],
 "metadata": {
  "kernelspec": {
   "display_name": "Python 3 (ipykernel)",
   "language": "python",
   "name": "python3"
  },
  "language_info": {
   "codemirror_mode": {
    "name": "ipython",
    "version": 3
   },
   "file_extension": ".py",
   "mimetype": "text/x-python",
   "name": "python",
   "nbconvert_exporter": "python",
   "pygments_lexer": "ipython3",
   "version": "3.12.6"
  }
 },
 "nbformat": 4,
 "nbformat_minor": 5
}
