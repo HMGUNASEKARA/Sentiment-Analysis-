{
 "cells": [
  {
   "cell_type": "code",
   "execution_count": 1,
   "id": "4f3105da-80ce-4d2c-8eef-4f55d848f1fb",
   "metadata": {},
   "outputs": [
    {
     "name": "stdout",
     "output_type": "stream",
     "text": [
      "Collecting scikit-learn\n",
      "  Using cached scikit_learn-1.7.1-cp312-cp312-win_amd64.whl.metadata (11 kB)\n",
      "Requirement already satisfied: numpy>=1.22.0 in d:\\data_scentist\\machine_learning\\sentiment-analysis-\\env\\lib\\site-packages (from scikit-learn) (2.3.2)\n",
      "Collecting scipy>=1.8.0 (from scikit-learn)\n",
      "  Using cached scipy-1.16.1-cp312-cp312-win_amd64.whl.metadata (60 kB)\n",
      "Collecting joblib>=1.2.0 (from scikit-learn)\n",
      "  Downloading joblib-1.5.2-py3-none-any.whl.metadata (5.6 kB)\n",
      "Collecting threadpoolctl>=3.1.0 (from scikit-learn)\n",
      "  Using cached threadpoolctl-3.6.0-py3-none-any.whl.metadata (13 kB)\n",
      "Using cached scikit_learn-1.7.1-cp312-cp312-win_amd64.whl (8.7 MB)\n",
      "Downloading joblib-1.5.2-py3-none-any.whl (308 kB)\n",
      "Using cached scipy-1.16.1-cp312-cp312-win_amd64.whl (38.5 MB)\n",
      "Using cached threadpoolctl-3.6.0-py3-none-any.whl (18 kB)\n",
      "Installing collected packages: threadpoolctl, scipy, joblib, scikit-learn\n",
      "\n",
      "   ---------- ----------------------------- 1/4 [scipy]\n",
      "   ---------- ----------------------------- 1/4 [scipy]\n",
      "   ---------- ----------------------------- 1/4 [scipy]\n",
      "   ---------- ----------------------------- 1/4 [scipy]\n",
      "   ---------- ----------------------------- 1/4 [scipy]\n",
      "   ---------- ----------------------------- 1/4 [scipy]\n",
      "   ---------- ----------------------------- 1/4 [scipy]\n",
      "   ---------- ----------------------------- 1/4 [scipy]\n",
      "   ---------- ----------------------------- 1/4 [scipy]\n",
      "   ---------- ----------------------------- 1/4 [scipy]\n",
      "   ---------- ----------------------------- 1/4 [scipy]\n",
      "   ---------- ----------------------------- 1/4 [scipy]\n",
      "   ---------- ----------------------------- 1/4 [scipy]\n",
      "   ---------- ----------------------------- 1/4 [scipy]\n",
      "   ---------- ----------------------------- 1/4 [scipy]\n",
      "   ---------- ----------------------------- 1/4 [scipy]\n",
      "   ---------- ----------------------------- 1/4 [scipy]\n",
      "   ---------- ----------------------------- 1/4 [scipy]\n",
      "   ---------- ----------------------------- 1/4 [scipy]\n",
      "   ---------- ----------------------------- 1/4 [scipy]\n",
      "   ---------- ----------------------------- 1/4 [scipy]\n",
      "   ---------- ----------------------------- 1/4 [scipy]\n",
      "   ---------- ----------------------------- 1/4 [scipy]\n",
      "   ---------- ----------------------------- 1/4 [scipy]\n",
      "   ---------- ----------------------------- 1/4 [scipy]\n",
      "   ---------- ----------------------------- 1/4 [scipy]\n",
      "   ---------- ----------------------------- 1/4 [scipy]\n",
      "   ---------- ----------------------------- 1/4 [scipy]\n",
      "   ---------- ----------------------------- 1/4 [scipy]\n",
      "   ---------- ----------------------------- 1/4 [scipy]\n",
      "   ---------- ----------------------------- 1/4 [scipy]\n",
      "   ---------- ----------------------------- 1/4 [scipy]\n",
      "   ---------- ----------------------------- 1/4 [scipy]\n",
      "   ---------- ----------------------------- 1/4 [scipy]\n",
      "   ---------- ----------------------------- 1/4 [scipy]\n",
      "   ---------- ----------------------------- 1/4 [scipy]\n",
      "   ---------- ----------------------------- 1/4 [scipy]\n",
      "   ---------- ----------------------------- 1/4 [scipy]\n",
      "   ---------- ----------------------------- 1/4 [scipy]\n",
      "   ---------- ----------------------------- 1/4 [scipy]\n",
      "   ---------- ----------------------------- 1/4 [scipy]\n",
      "   ---------- ----------------------------- 1/4 [scipy]\n",
      "   ---------- ----------------------------- 1/4 [scipy]\n",
      "   ---------- ----------------------------- 1/4 [scipy]\n",
      "   ---------- ----------------------------- 1/4 [scipy]\n",
      "   ---------- ----------------------------- 1/4 [scipy]\n",
      "   ---------- ----------------------------- 1/4 [scipy]\n",
      "   ---------- ----------------------------- 1/4 [scipy]\n",
      "   ---------- ----------------------------- 1/4 [scipy]\n",
      "   ---------- ----------------------------- 1/4 [scipy]\n",
      "   ---------- ----------------------------- 1/4 [scipy]\n",
      "   ---------- ----------------------------- 1/4 [scipy]\n",
      "   ---------- ----------------------------- 1/4 [scipy]\n",
      "   ---------- ----------------------------- 1/4 [scipy]\n",
      "   ---------- ----------------------------- 1/4 [scipy]\n",
      "   ---------- ----------------------------- 1/4 [scipy]\n",
      "   ---------- ----------------------------- 1/4 [scipy]\n",
      "   ---------- ----------------------------- 1/4 [scipy]\n",
      "   ---------- ----------------------------- 1/4 [scipy]\n",
      "   ---------- ----------------------------- 1/4 [scipy]\n",
      "   ---------- ----------------------------- 1/4 [scipy]\n",
      "   ---------- ----------------------------- 1/4 [scipy]\n",
      "   ---------- ----------------------------- 1/4 [scipy]\n",
      "   ---------- ----------------------------- 1/4 [scipy]\n",
      "   ---------- ----------------------------- 1/4 [scipy]\n",
      "   ---------- ----------------------------- 1/4 [scipy]\n",
      "   ---------- ----------------------------- 1/4 [scipy]\n",
      "   ---------- ----------------------------- 1/4 [scipy]\n",
      "   ---------- ----------------------------- 1/4 [scipy]\n",
      "   ---------- ----------------------------- 1/4 [scipy]\n",
      "   ---------- ----------------------------- 1/4 [scipy]\n",
      "   ---------- ----------------------------- 1/4 [scipy]\n",
      "   ---------- ----------------------------- 1/4 [scipy]\n",
      "   ---------- ----------------------------- 1/4 [scipy]\n",
      "   ---------- ----------------------------- 1/4 [scipy]\n",
      "   ---------- ----------------------------- 1/4 [scipy]\n",
      "   ---------- ----------------------------- 1/4 [scipy]\n",
      "   ---------- ----------------------------- 1/4 [scipy]\n",
      "   ---------- ----------------------------- 1/4 [scipy]\n",
      "   ---------- ----------------------------- 1/4 [scipy]\n",
      "   ---------- ----------------------------- 1/4 [scipy]\n",
      "   ---------- ----------------------------- 1/4 [scipy]\n",
      "   ---------- ----------------------------- 1/4 [scipy]\n",
      "   ---------- ----------------------------- 1/4 [scipy]\n",
      "   ---------- ----------------------------- 1/4 [scipy]\n",
      "   ---------- ----------------------------- 1/4 [scipy]\n",
      "   ---------- ----------------------------- 1/4 [scipy]\n",
      "   ---------- ----------------------------- 1/4 [scipy]\n",
      "   ---------- ----------------------------- 1/4 [scipy]\n",
      "   ---------- ----------------------------- 1/4 [scipy]\n",
      "   ---------- ----------------------------- 1/4 [scipy]\n",
      "   ---------- ----------------------------- 1/4 [scipy]\n",
      "   ---------- ----------------------------- 1/4 [scipy]\n",
      "   ---------- ----------------------------- 1/4 [scipy]\n",
      "   ---------- ----------------------------- 1/4 [scipy]\n",
      "   ---------- ----------------------------- 1/4 [scipy]\n",
      "   ---------- ----------------------------- 1/4 [scipy]\n",
      "   ---------- ----------------------------- 1/4 [scipy]\n",
      "   ---------- ----------------------------- 1/4 [scipy]\n",
      "   ---------- ----------------------------- 1/4 [scipy]\n",
      "   ---------- ----------------------------- 1/4 [scipy]\n",
      "   ---------- ----------------------------- 1/4 [scipy]\n",
      "   ---------- ----------------------------- 1/4 [scipy]\n",
      "   ---------- ----------------------------- 1/4 [scipy]\n",
      "   ---------- ----------------------------- 1/4 [scipy]\n",
      "   ---------- ----------------------------- 1/4 [scipy]\n",
      "   ---------- ----------------------------- 1/4 [scipy]\n",
      "   ---------- ----------------------------- 1/4 [scipy]\n",
      "   ---------- ----------------------------- 1/4 [scipy]\n",
      "   ---------- ----------------------------- 1/4 [scipy]\n",
      "   ---------- ----------------------------- 1/4 [scipy]\n",
      "   ---------- ----------------------------- 1/4 [scipy]\n",
      "   ---------- ----------------------------- 1/4 [scipy]\n",
      "   ---------- ----------------------------- 1/4 [scipy]\n",
      "   ---------- ----------------------------- 1/4 [scipy]\n",
      "   ---------- ----------------------------- 1/4 [scipy]\n",
      "   ---------- ----------------------------- 1/4 [scipy]\n",
      "   ---------- ----------------------------- 1/4 [scipy]\n",
      "   ---------- ----------------------------- 1/4 [scipy]\n",
      "   ---------- ----------------------------- 1/4 [scipy]\n",
      "   ---------- ----------------------------- 1/4 [scipy]\n",
      "   ---------- ----------------------------- 1/4 [scipy]\n",
      "   ---------- ----------------------------- 1/4 [scipy]\n",
      "   ---------- ----------------------------- 1/4 [scipy]\n",
      "   ---------- ----------------------------- 1/4 [scipy]\n",
      "   ---------- ----------------------------- 1/4 [scipy]\n",
      "   ---------- ----------------------------- 1/4 [scipy]\n",
      "   ---------- ----------------------------- 1/4 [scipy]\n",
      "   ---------- ----------------------------- 1/4 [scipy]\n",
      "   ---------- ----------------------------- 1/4 [scipy]\n",
      "   ---------- ----------------------------- 1/4 [scipy]\n",
      "   ---------- ----------------------------- 1/4 [scipy]\n",
      "   ---------- ----------------------------- 1/4 [scipy]\n",
      "   ---------- ----------------------------- 1/4 [scipy]\n",
      "   ---------- ----------------------------- 1/4 [scipy]\n",
      "   ---------- ----------------------------- 1/4 [scipy]\n",
      "   ---------- ----------------------------- 1/4 [scipy]\n",
      "   ---------- ----------------------------- 1/4 [scipy]\n",
      "   ---------- ----------------------------- 1/4 [scipy]\n",
      "   ---------- ----------------------------- 1/4 [scipy]\n",
      "   -------------------- ------------------- 2/4 [joblib]\n",
      "   -------------------- ------------------- 2/4 [joblib]\n",
      "   -------------------- ------------------- 2/4 [joblib]\n",
      "   -------------------- ------------------- 2/4 [joblib]\n",
      "   -------------------- ------------------- 2/4 [joblib]\n",
      "   -------------------- ------------------- 2/4 [joblib]\n",
      "   -------------------- ------------------- 2/4 [joblib]\n",
      "   -------------------- ------------------- 2/4 [joblib]\n",
      "   -------------------- ------------------- 2/4 [joblib]\n",
      "   -------------------- ------------------- 2/4 [joblib]\n",
      "   ------------------------------ --------- 3/4 [scikit-learn]\n",
      "   ------------------------------ --------- 3/4 [scikit-learn]\n",
      "   ------------------------------ --------- 3/4 [scikit-learn]\n",
      "   ------------------------------ --------- 3/4 [scikit-learn]\n",
      "   ------------------------------ --------- 3/4 [scikit-learn]\n",
      "   ------------------------------ --------- 3/4 [scikit-learn]\n",
      "   ------------------------------ --------- 3/4 [scikit-learn]\n",
      "   ------------------------------ --------- 3/4 [scikit-learn]\n",
      "   ------------------------------ --------- 3/4 [scikit-learn]\n",
      "   ------------------------------ --------- 3/4 [scikit-learn]\n",
      "   ------------------------------ --------- 3/4 [scikit-learn]\n",
      "   ------------------------------ --------- 3/4 [scikit-learn]\n",
      "   ------------------------------ --------- 3/4 [scikit-learn]\n",
      "   ------------------------------ --------- 3/4 [scikit-learn]\n",
      "   ------------------------------ --------- 3/4 [scikit-learn]\n",
      "   ------------------------------ --------- 3/4 [scikit-learn]\n",
      "   ------------------------------ --------- 3/4 [scikit-learn]\n",
      "   ------------------------------ --------- 3/4 [scikit-learn]\n",
      "   ------------------------------ --------- 3/4 [scikit-learn]\n",
      "   ------------------------------ --------- 3/4 [scikit-learn]\n",
      "   ------------------------------ --------- 3/4 [scikit-learn]\n",
      "   ------------------------------ --------- 3/4 [scikit-learn]\n",
      "   ------------------------------ --------- 3/4 [scikit-learn]\n",
      "   ------------------------------ --------- 3/4 [scikit-learn]\n",
      "   ------------------------------ --------- 3/4 [scikit-learn]\n",
      "   ------------------------------ --------- 3/4 [scikit-learn]\n",
      "   ------------------------------ --------- 3/4 [scikit-learn]\n",
      "   ------------------------------ --------- 3/4 [scikit-learn]\n",
      "   ------------------------------ --------- 3/4 [scikit-learn]\n",
      "   ------------------------------ --------- 3/4 [scikit-learn]\n",
      "   ------------------------------ --------- 3/4 [scikit-learn]\n",
      "   ------------------------------ --------- 3/4 [scikit-learn]\n",
      "   ------------------------------ --------- 3/4 [scikit-learn]\n",
      "   ------------------------------ --------- 3/4 [scikit-learn]\n",
      "   ------------------------------ --------- 3/4 [scikit-learn]\n",
      "   ------------------------------ --------- 3/4 [scikit-learn]\n",
      "   ------------------------------ --------- 3/4 [scikit-learn]\n",
      "   ------------------------------ --------- 3/4 [scikit-learn]\n",
      "   ------------------------------ --------- 3/4 [scikit-learn]\n",
      "   ------------------------------ --------- 3/4 [scikit-learn]\n",
      "   ------------------------------ --------- 3/4 [scikit-learn]\n",
      "   ------------------------------ --------- 3/4 [scikit-learn]\n",
      "   ------------------------------ --------- 3/4 [scikit-learn]\n",
      "   ------------------------------ --------- 3/4 [scikit-learn]\n",
      "   ------------------------------ --------- 3/4 [scikit-learn]\n",
      "   ------------------------------ --------- 3/4 [scikit-learn]\n",
      "   ------------------------------ --------- 3/4 [scikit-learn]\n",
      "   ------------------------------ --------- 3/4 [scikit-learn]\n",
      "   ------------------------------ --------- 3/4 [scikit-learn]\n",
      "   ------------------------------ --------- 3/4 [scikit-learn]\n",
      "   ------------------------------ --------- 3/4 [scikit-learn]\n",
      "   ------------------------------ --------- 3/4 [scikit-learn]\n",
      "   ------------------------------ --------- 3/4 [scikit-learn]\n",
      "   ------------------------------ --------- 3/4 [scikit-learn]\n",
      "   ------------------------------ --------- 3/4 [scikit-learn]\n",
      "   ------------------------------ --------- 3/4 [scikit-learn]\n",
      "   ------------------------------ --------- 3/4 [scikit-learn]\n",
      "   ------------------------------ --------- 3/4 [scikit-learn]\n",
      "   ------------------------------ --------- 3/4 [scikit-learn]\n",
      "   ------------------------------ --------- 3/4 [scikit-learn]\n",
      "   ------------------------------ --------- 3/4 [scikit-learn]\n",
      "   ------------------------------ --------- 3/4 [scikit-learn]\n",
      "   ------------------------------ --------- 3/4 [scikit-learn]\n",
      "   ------------------------------ --------- 3/4 [scikit-learn]\n",
      "   ------------------------------ --------- 3/4 [scikit-learn]\n",
      "   ------------------------------ --------- 3/4 [scikit-learn]\n",
      "   ------------------------------ --------- 3/4 [scikit-learn]\n",
      "   ------------------------------ --------- 3/4 [scikit-learn]\n",
      "   ------------------------------ --------- 3/4 [scikit-learn]\n",
      "   ------------------------------ --------- 3/4 [scikit-learn]\n",
      "   ------------------------------ --------- 3/4 [scikit-learn]\n",
      "   ------------------------------ --------- 3/4 [scikit-learn]\n",
      "   ------------------------------ --------- 3/4 [scikit-learn]\n",
      "   ------------------------------ --------- 3/4 [scikit-learn]\n",
      "   ------------------------------ --------- 3/4 [scikit-learn]\n",
      "   ------------------------------ --------- 3/4 [scikit-learn]\n",
      "   ------------------------------ --------- 3/4 [scikit-learn]\n",
      "   ------------------------------ --------- 3/4 [scikit-learn]\n",
      "   ------------------------------ --------- 3/4 [scikit-learn]\n",
      "   ------------------------------ --------- 3/4 [scikit-learn]\n",
      "   ------------------------------ --------- 3/4 [scikit-learn]\n",
      "   ------------------------------ --------- 3/4 [scikit-learn]\n",
      "   ------------------------------ --------- 3/4 [scikit-learn]\n",
      "   ------------------------------ --------- 3/4 [scikit-learn]\n",
      "   ------------------------------ --------- 3/4 [scikit-learn]\n",
      "   ------------------------------ --------- 3/4 [scikit-learn]\n",
      "   ------------------------------ --------- 3/4 [scikit-learn]\n",
      "   ------------------------------ --------- 3/4 [scikit-learn]\n",
      "   ------------------------------ --------- 3/4 [scikit-learn]\n",
      "   ------------------------------ --------- 3/4 [scikit-learn]\n",
      "   ------------------------------ --------- 3/4 [scikit-learn]\n",
      "   ------------------------------ --------- 3/4 [scikit-learn]\n",
      "   ---------------------------------------- 4/4 [scikit-learn]\n",
      "\n",
      "Successfully installed joblib-1.5.2 scikit-learn-1.7.1 scipy-1.16.1 threadpoolctl-3.6.0\n"
     ]
    },
    {
     "name": "stderr",
     "output_type": "stream",
     "text": [
      "\n",
      "[notice] A new release of pip is available: 25.1.1 -> 25.2\n",
      "[notice] To update, run: python.exe -m pip install --upgrade pip\n"
     ]
    },
    {
     "name": "stdout",
     "output_type": "stream",
     "text": [
      "Collecting imblearn\n",
      "  Downloading imblearn-0.0-py2.py3-none-any.whl.metadata (355 bytes)\n",
      "Collecting imbalanced-learn (from imblearn)\n",
      "  Downloading imbalanced_learn-0.14.0-py3-none-any.whl.metadata (8.8 kB)\n",
      "Requirement already satisfied: numpy<3,>=1.25.2 in d:\\data_scentist\\machine_learning\\sentiment-analysis-\\env\\lib\\site-packages (from imbalanced-learn->imblearn) (2.3.2)\n",
      "Requirement already satisfied: scipy<2,>=1.11.4 in d:\\data_scentist\\machine_learning\\sentiment-analysis-\\env\\lib\\site-packages (from imbalanced-learn->imblearn) (1.16.1)\n",
      "Requirement already satisfied: scikit-learn<2,>=1.4.2 in d:\\data_scentist\\machine_learning\\sentiment-analysis-\\env\\lib\\site-packages (from imbalanced-learn->imblearn) (1.7.1)\n",
      "Requirement already satisfied: joblib<2,>=1.2.0 in d:\\data_scentist\\machine_learning\\sentiment-analysis-\\env\\lib\\site-packages (from imbalanced-learn->imblearn) (1.5.2)\n",
      "Requirement already satisfied: threadpoolctl<4,>=2.0.0 in d:\\data_scentist\\machine_learning\\sentiment-analysis-\\env\\lib\\site-packages (from imbalanced-learn->imblearn) (3.6.0)\n",
      "Downloading imblearn-0.0-py2.py3-none-any.whl (1.9 kB)\n",
      "Downloading imbalanced_learn-0.14.0-py3-none-any.whl (239 kB)\n",
      "Installing collected packages: imbalanced-learn, imblearn\n",
      "\n",
      "   ---------------------------------------- 0/2 [imbalanced-learn]\n",
      "   ---------------------------------------- 0/2 [imbalanced-learn]\n",
      "   ---------------------------------------- 0/2 [imbalanced-learn]\n",
      "   ---------------------------------------- 0/2 [imbalanced-learn]\n",
      "   ---------------------------------------- 0/2 [imbalanced-learn]\n",
      "   ---------------------------------------- 0/2 [imbalanced-learn]\n",
      "   ---------------------------------------- 0/2 [imbalanced-learn]\n",
      "   ---------------------------------------- 0/2 [imbalanced-learn]\n",
      "   ---------------------------------------- 0/2 [imbalanced-learn]\n",
      "   ---------------------------------------- 0/2 [imbalanced-learn]\n",
      "   ---------------------------------------- 0/2 [imbalanced-learn]\n",
      "   ---------------------------------------- 0/2 [imbalanced-learn]\n",
      "   ---------------------------------------- 0/2 [imbalanced-learn]\n",
      "   ---------------------------------------- 0/2 [imbalanced-learn]\n",
      "   ---------------------------------------- 2/2 [imblearn]\n",
      "\n",
      "Successfully installed imbalanced-learn-0.14.0 imblearn-0.0\n"
     ]
    },
    {
     "name": "stderr",
     "output_type": "stream",
     "text": [
      "\n",
      "[notice] A new release of pip is available: 25.1.1 -> 25.2\n",
      "[notice] To update, run: python.exe -m pip install --upgrade pip\n"
     ]
    }
   ],
   "source": [
    "!pip install scikit-learn\n",
    "!pip install imblearn"
   ]
  },
  {
   "cell_type": "code",
   "execution_count": 1,
   "id": "079c7679-0832-41cf-a619-ed74058958c7",
   "metadata": {},
   "outputs": [],
   "source": [
    "import numpy as np\n",
    "import pandas as pd\n",
    "import matplotlib.pyplot as plt"
   ]
  },
  {
   "cell_type": "code",
   "execution_count": 2,
   "id": "19a6c94b-d281-4c39-b271-4cb71a2a92be",
   "metadata": {},
   "outputs": [
    {
     "data": {
      "text/html": [
       "<div>\n",
       "<style scoped>\n",
       "    .dataframe tbody tr th:only-of-type {\n",
       "        vertical-align: middle;\n",
       "    }\n",
       "\n",
       "    .dataframe tbody tr th {\n",
       "        vertical-align: top;\n",
       "    }\n",
       "\n",
       "    .dataframe thead th {\n",
       "        text-align: right;\n",
       "    }\n",
       "</style>\n",
       "<table border=\"1\" class=\"dataframe\">\n",
       "  <thead>\n",
       "    <tr style=\"text-align: right;\">\n",
       "      <th></th>\n",
       "      <th>id</th>\n",
       "      <th>label</th>\n",
       "      <th>tweet</th>\n",
       "    </tr>\n",
       "  </thead>\n",
       "  <tbody>\n",
       "    <tr>\n",
       "      <th>0</th>\n",
       "      <td>1</td>\n",
       "      <td>0</td>\n",
       "      <td>#fingerprint #Pregnancy Test https://goo.gl/h1...</td>\n",
       "    </tr>\n",
       "    <tr>\n",
       "      <th>1</th>\n",
       "      <td>2</td>\n",
       "      <td>0</td>\n",
       "      <td>Finally a transparant silicon case ^^ Thanks t...</td>\n",
       "    </tr>\n",
       "    <tr>\n",
       "      <th>2</th>\n",
       "      <td>3</td>\n",
       "      <td>0</td>\n",
       "      <td>We love this! Would you go? #talk #makememorie...</td>\n",
       "    </tr>\n",
       "    <tr>\n",
       "      <th>3</th>\n",
       "      <td>4</td>\n",
       "      <td>0</td>\n",
       "      <td>I'm wired I know I'm George I was made that wa...</td>\n",
       "    </tr>\n",
       "    <tr>\n",
       "      <th>4</th>\n",
       "      <td>5</td>\n",
       "      <td>1</td>\n",
       "      <td>What amazing service! Apple won't even talk to...</td>\n",
       "    </tr>\n",
       "  </tbody>\n",
       "</table>\n",
       "</div>"
      ],
      "text/plain": [
       "   id  label                                              tweet\n",
       "0   1      0  #fingerprint #Pregnancy Test https://goo.gl/h1...\n",
       "1   2      0  Finally a transparant silicon case ^^ Thanks t...\n",
       "2   3      0  We love this! Would you go? #talk #makememorie...\n",
       "3   4      0  I'm wired I know I'm George I was made that wa...\n",
       "4   5      1  What amazing service! Apple won't even talk to..."
      ]
     },
     "execution_count": 2,
     "metadata": {},
     "output_type": "execute_result"
    }
   ],
   "source": [
    "data =  pd.read_csv('../Data_set/sentiment_analysis.csv')\n",
    "data.head()\n"
   ]
  },
  {
   "cell_type": "markdown",
   "id": "8986ab40-b79d-429b-9d99-049e20050b78",
   "metadata": {},
   "source": [
    "### Start the data preperation part"
   ]
  },
  {
   "cell_type": "code",
   "execution_count": 3,
   "id": "86c2f7cf-fcfd-467e-aad9-66c757e576f0",
   "metadata": {},
   "outputs": [
    {
     "data": {
      "text/plain": [
       "(7920, 3)"
      ]
     },
     "execution_count": 3,
     "metadata": {},
     "output_type": "execute_result"
    }
   ],
   "source": [
    "data.shape"
   ]
  },
  {
   "cell_type": "code",
   "execution_count": 4,
   "id": "f164fcf9-3656-4862-bfc5-825b8d5e89c6",
   "metadata": {},
   "outputs": [
    {
     "data": {
      "text/plain": [
       "np.int64(0)"
      ]
     },
     "execution_count": 4,
     "metadata": {},
     "output_type": "execute_result"
    }
   ],
   "source": [
    "data.duplicated().sum()"
   ]
  },
  {
   "cell_type": "code",
   "execution_count": 5,
   "id": "3a24a6b3-e42e-457d-a060-2d9855646776",
   "metadata": {},
   "outputs": [
    {
     "data": {
      "text/plain": [
       "id       0\n",
       "label    0\n",
       "tweet    0\n",
       "dtype: int64"
      ]
     },
     "execution_count": 5,
     "metadata": {},
     "output_type": "execute_result"
    }
   ],
   "source": [
    "data.isnull().sum()"
   ]
  },
  {
   "cell_type": "markdown",
   "id": "a05bd57b-47fd-4a6d-859b-d459288da974",
   "metadata": {},
   "source": [
    "####  When look at the 3 colum there is link upper letters,makrs and etc. For create clear word set we have to clean the 3rd colum. So we do some basic NLP steps\n",
    "\n",
    "#### Convert Upper to Lowercase\n",
    "#### Remove links\n",
    "#### Remove Punctuations (wirama lakunu)\n",
    "#### Remove Numbers \n",
    "#### Remove Stopwords (Thaniyama gaththahama therumak nathi wachana)\n",
    "#### Stemming (One ward can different format get base)\n"
   ]
  },
  {
   "cell_type": "code",
   "execution_count": 7,
   "id": "64488d2f-1df2-4693-b688-1f121ee70a08",
   "metadata": {},
   "outputs": [],
   "source": [
    "import re    # By using this package I can remove specific type of characterstic Like links\n",
    "import string # This package have predine functuality. By using that we can remove that kind of pre define functions. I used to remove stopping wards\n",
    "# Such as is, the,am , etc....\n"
   ]
  },
  {
   "cell_type": "code",
   "execution_count": 8,
   "id": "4d5972cc-8399-4e5d-b39f-fb8f4f1c0df9",
   "metadata": {},
   "outputs": [],
   "source": [
    "# First step convart in to lower case \n",
    "data[\"tweet\"] = data[\"tweet\"].apply(lambda x: \" \".join(x.lower() for x in x.split()))\n",
    "\n",
    "# To get the idea of the code First I select the colum tweet \n",
    "# Then by using apply  function do all the lamda function for all the rows\n",
    "# In side the lamda first split the sentence in to separate words. After separation make that in tolower case\n",
    "# The join that with space \n",
    "\n",
    "# Then I turn all the letters in to lower case(simple) \n",
    "\n"
   ]
  },
  {
   "cell_type": "code",
   "execution_count": 9,
   "id": "95dd5241-317b-457a-bb82-2ae684c7ec4e",
   "metadata": {},
   "outputs": [
    {
     "data": {
      "text/plain": [
       "0    #fingerprint #pregnancy test https://goo.gl/h1...\n",
       "1    finally a transparant silicon case ^^ thanks t...\n",
       "2    we love this! would you go? #talk #makememorie...\n",
       "3    i'm wired i know i'm george i was made that wa...\n",
       "4    what amazing service! apple won't even talk to...\n",
       "Name: tweet, dtype: object"
      ]
     },
     "execution_count": 9,
     "metadata": {},
     "output_type": "execute_result"
    }
   ],
   "source": [
    "data[\"tweet\"].head(5)"
   ]
  },
  {
   "cell_type": "code",
   "execution_count": 10,
   "id": "aef1ffff-2a4d-493d-9a66-91620d67d20e",
   "metadata": {},
   "outputs": [],
   "source": [
    "# Next Remove the links of the tweet colum \n",
    "data[\"tweet\"] = data['tweet'].apply(lambda x: \" \".join(re.sub(r'^https?:\\/\\/.*[\\r\\n]*', '', x, flags=re.MULTILINE) for x in x.split()))\n",
    "\n",
    "# Let s explin this code first get the tweet colum, THen split that in to single words \n",
    "# Then check each word has start of https  ^\"https?:\\/\\/.*[\\r\\n]* this kind of patten if have replace  with nothing then join that remaining words \n",
    "# flags=re.MULTILINE      this argument tell \"^\" stat  and \"$\" End\n",
    "#re.sub(pattern, replacement, text, flags=...)"
   ]
  },
  {
   "cell_type": "code",
   "execution_count": 11,
   "id": "3c294920-22e4-43bc-aabb-8a4f35376152",
   "metadata": {},
   "outputs": [
    {
     "data": {
      "text/plain": [
       "0    #fingerprint #pregnancy test  #android #apps #...\n",
       "1    finally a transparant silicon case ^^ thanks t...\n",
       "2    we love this! would you go? #talk #makememorie...\n",
       "3    i'm wired i know i'm george i was made that wa...\n",
       "4    what amazing service! apple won't even talk to...\n",
       "Name: tweet, dtype: object"
      ]
     },
     "execution_count": 11,
     "metadata": {},
     "output_type": "execute_result"
    }
   ],
   "source": [
    "data['tweet'].head(5)"
   ]
  },
  {
   "cell_type": "code",
   "execution_count": 12,
   "id": "5c8cbfa9-e4fe-44cf-a7ba-9f5330772145",
   "metadata": {},
   "outputs": [
    {
     "data": {
      "text/plain": [
       "'!\"#$%&\\'()*+,-./:;<=>?@[\\\\]^_`{|}~'"
      ]
     },
     "execution_count": 12,
     "metadata": {},
     "output_type": "execute_result"
    }
   ],
   "source": [
    "# Remove funtuation  (wirama lakunu) \n",
    "string.punctuation   # Theses are the function I am going to remove "
   ]
  },
  {
   "cell_type": "code",
   "execution_count": 13,
   "id": "2fc42603-bf69-4b33-8929-8a1fcb3ad518",
   "metadata": {},
   "outputs": [],
   "source": [
    "def remove_punctuations(text):\n",
    "    for punctuation in string.punctuation:   # THis mean for loop go one by one in string. punctuation and check  is ther are same \n",
    "        text = text.replace(punctuation, ' ')   # If find that kind of equation then remove that value and replace with  nuthing \n",
    "    return text\n",
    "\n",
    "data[\"tweet\"] = data[\"tweet\"].apply(remove_punctuations)\n",
    "# Inside the remove_punctuation   in the for loop, loop the  Each punctuatinality one by one.THen If find that king of function that replace by \" \"."
   ]
  },
  {
   "cell_type": "code",
   "execution_count": 14,
   "id": "6ba4b00c-2106-4308-9871-ec250a1aa60d",
   "metadata": {},
   "outputs": [
    {
     "data": {
      "text/html": [
       "<div>\n",
       "<style scoped>\n",
       "    .dataframe tbody tr th:only-of-type {\n",
       "        vertical-align: middle;\n",
       "    }\n",
       "\n",
       "    .dataframe tbody tr th {\n",
       "        vertical-align: top;\n",
       "    }\n",
       "\n",
       "    .dataframe thead th {\n",
       "        text-align: right;\n",
       "    }\n",
       "</style>\n",
       "<table border=\"1\" class=\"dataframe\">\n",
       "  <thead>\n",
       "    <tr style=\"text-align: right;\">\n",
       "      <th></th>\n",
       "      <th>id</th>\n",
       "      <th>label</th>\n",
       "      <th>tweet</th>\n",
       "    </tr>\n",
       "  </thead>\n",
       "  <tbody>\n",
       "    <tr>\n",
       "      <th>7910</th>\n",
       "      <td>7911</td>\n",
       "      <td>0</td>\n",
       "      <td>perfect match  instagood  applewatch  red  ins...</td>\n",
       "    </tr>\n",
       "    <tr>\n",
       "      <th>7911</th>\n",
       "      <td>7912</td>\n",
       "      <td>0</td>\n",
       "      <td>i am completely in love with the new iphone em...</td>\n",
       "    </tr>\n",
       "    <tr>\n",
       "      <th>7912</th>\n",
       "      <td>7913</td>\n",
       "      <td>0</td>\n",
       "      <td>tune in  turn on  drop out     gtd in one app ...</td>\n",
       "    </tr>\n",
       "    <tr>\n",
       "      <th>7913</th>\n",
       "      <td>7914</td>\n",
       "      <td>1</td>\n",
       "      <td>ok so my galaxy crashed after one day now i ha...</td>\n",
       "    </tr>\n",
       "    <tr>\n",
       "      <th>7914</th>\n",
       "      <td>7915</td>\n",
       "      <td>0</td>\n",
       "      <td>gain followers rt this must follow me i follow...</td>\n",
       "    </tr>\n",
       "    <tr>\n",
       "      <th>7915</th>\n",
       "      <td>7916</td>\n",
       "      <td>0</td>\n",
       "      <td>live out loud  lol  liveoutloud  selfie  smile...</td>\n",
       "    </tr>\n",
       "    <tr>\n",
       "      <th>7916</th>\n",
       "      <td>7917</td>\n",
       "      <td>0</td>\n",
       "      <td>we would like to wish you an amazing day  make...</td>\n",
       "    </tr>\n",
       "    <tr>\n",
       "      <th>7917</th>\n",
       "      <td>7918</td>\n",
       "      <td>0</td>\n",
       "      <td>helping my lovely 90 year old neighbor with he...</td>\n",
       "    </tr>\n",
       "    <tr>\n",
       "      <th>7918</th>\n",
       "      <td>7919</td>\n",
       "      <td>0</td>\n",
       "      <td>finally got my  smart  pocket  wifi stay conne...</td>\n",
       "    </tr>\n",
       "    <tr>\n",
       "      <th>7919</th>\n",
       "      <td>7920</td>\n",
       "      <td>0</td>\n",
       "      <td>apple barcelona     apple  store  bcn  barcelo...</td>\n",
       "    </tr>\n",
       "  </tbody>\n",
       "</table>\n",
       "</div>"
      ],
      "text/plain": [
       "        id  label                                              tweet\n",
       "7910  7911      0  perfect match  instagood  applewatch  red  ins...\n",
       "7911  7912      0  i am completely in love with the new iphone em...\n",
       "7912  7913      0  tune in  turn on  drop out     gtd in one app ...\n",
       "7913  7914      1  ok so my galaxy crashed after one day now i ha...\n",
       "7914  7915      0  gain followers rt this must follow me i follow...\n",
       "7915  7916      0  live out loud  lol  liveoutloud  selfie  smile...\n",
       "7916  7917      0  we would like to wish you an amazing day  make...\n",
       "7917  7918      0  helping my lovely 90 year old neighbor with he...\n",
       "7918  7919      0  finally got my  smart  pocket  wifi stay conne...\n",
       "7919  7920      0  apple barcelona     apple  store  bcn  barcelo..."
      ]
     },
     "execution_count": 14,
     "metadata": {},
     "output_type": "execute_result"
    }
   ],
   "source": [
    "data.tail(10)"
   ]
  },
  {
   "cell_type": "code",
   "execution_count": 15,
   "id": "50a66fc1-491a-4723-9cc7-dbddaf45a390",
   "metadata": {},
   "outputs": [
    {
     "name": "stderr",
     "output_type": "stream",
     "text": [
      "<>:2: SyntaxWarning: invalid escape sequence '\\d'\n",
      "<>:2: SyntaxWarning: invalid escape sequence '\\d'\n",
      "C:\\Users\\Dell\\AppData\\Local\\Temp\\ipykernel_11536\\1241851902.py:2: SyntaxWarning: invalid escape sequence '\\d'\n",
      "  data[\"tweet\"] = data['tweet'].str.replace('\\d+', '', regex=True)\n"
     ]
    }
   ],
   "source": [
    "# Then remove the numbers of  the tweet \n",
    "data[\"tweet\"] = data['tweet'].str.replace('\\d+', '', regex=True)\n",
    "\n",
    "# Acess the tweet colum, Then conart this in to string. If tere find number convart in to ''."
   ]
  },
  {
   "cell_type": "code",
   "execution_count": 16,
   "id": "2c10db8e-7f37-4665-b418-819e5a160056",
   "metadata": {},
   "outputs": [
    {
     "data": {
      "text/html": [
       "<div>\n",
       "<style scoped>\n",
       "    .dataframe tbody tr th:only-of-type {\n",
       "        vertical-align: middle;\n",
       "    }\n",
       "\n",
       "    .dataframe tbody tr th {\n",
       "        vertical-align: top;\n",
       "    }\n",
       "\n",
       "    .dataframe thead th {\n",
       "        text-align: right;\n",
       "    }\n",
       "</style>\n",
       "<table border=\"1\" class=\"dataframe\">\n",
       "  <thead>\n",
       "    <tr style=\"text-align: right;\">\n",
       "      <th></th>\n",
       "      <th>id</th>\n",
       "      <th>label</th>\n",
       "      <th>tweet</th>\n",
       "    </tr>\n",
       "  </thead>\n",
       "  <tbody>\n",
       "    <tr>\n",
       "      <th>7910</th>\n",
       "      <td>7911</td>\n",
       "      <td>0</td>\n",
       "      <td>perfect match  instagood  applewatch  red  ins...</td>\n",
       "    </tr>\n",
       "    <tr>\n",
       "      <th>7911</th>\n",
       "      <td>7912</td>\n",
       "      <td>0</td>\n",
       "      <td>i am completely in love with the new iphone em...</td>\n",
       "    </tr>\n",
       "    <tr>\n",
       "      <th>7912</th>\n",
       "      <td>7913</td>\n",
       "      <td>0</td>\n",
       "      <td>tune in  turn on  drop out     gtd in one app ...</td>\n",
       "    </tr>\n",
       "    <tr>\n",
       "      <th>7913</th>\n",
       "      <td>7914</td>\n",
       "      <td>1</td>\n",
       "      <td>ok so my galaxy crashed after one day now i ha...</td>\n",
       "    </tr>\n",
       "    <tr>\n",
       "      <th>7914</th>\n",
       "      <td>7915</td>\n",
       "      <td>0</td>\n",
       "      <td>gain followers rt this must follow me i follow...</td>\n",
       "    </tr>\n",
       "    <tr>\n",
       "      <th>7915</th>\n",
       "      <td>7916</td>\n",
       "      <td>0</td>\n",
       "      <td>live out loud  lol  liveoutloud  selfie  smile...</td>\n",
       "    </tr>\n",
       "    <tr>\n",
       "      <th>7916</th>\n",
       "      <td>7917</td>\n",
       "      <td>0</td>\n",
       "      <td>we would like to wish you an amazing day  make...</td>\n",
       "    </tr>\n",
       "    <tr>\n",
       "      <th>7917</th>\n",
       "      <td>7918</td>\n",
       "      <td>0</td>\n",
       "      <td>helping my lovely  year old neighbor with her ...</td>\n",
       "    </tr>\n",
       "    <tr>\n",
       "      <th>7918</th>\n",
       "      <td>7919</td>\n",
       "      <td>0</td>\n",
       "      <td>finally got my  smart  pocket  wifi stay conne...</td>\n",
       "    </tr>\n",
       "    <tr>\n",
       "      <th>7919</th>\n",
       "      <td>7920</td>\n",
       "      <td>0</td>\n",
       "      <td>apple barcelona     apple  store  bcn  barcelo...</td>\n",
       "    </tr>\n",
       "  </tbody>\n",
       "</table>\n",
       "</div>"
      ],
      "text/plain": [
       "        id  label                                              tweet\n",
       "7910  7911      0  perfect match  instagood  applewatch  red  ins...\n",
       "7911  7912      0  i am completely in love with the new iphone em...\n",
       "7912  7913      0  tune in  turn on  drop out     gtd in one app ...\n",
       "7913  7914      1  ok so my galaxy crashed after one day now i ha...\n",
       "7914  7915      0  gain followers rt this must follow me i follow...\n",
       "7915  7916      0  live out loud  lol  liveoutloud  selfie  smile...\n",
       "7916  7917      0  we would like to wish you an amazing day  make...\n",
       "7917  7918      0  helping my lovely  year old neighbor with her ...\n",
       "7918  7919      0  finally got my  smart  pocket  wifi stay conne...\n",
       "7919  7920      0  apple barcelona     apple  store  bcn  barcelo..."
      ]
     },
     "execution_count": 16,
     "metadata": {},
     "output_type": "execute_result"
    }
   ],
   "source": [
    "data.tail(10)"
   ]
  },
  {
   "cell_type": "code",
   "execution_count": 17,
   "id": "eaea35cc-f141-4455-adb1-67665eb54d3b",
   "metadata": {},
   "outputs": [
    {
     "name": "stdout",
     "output_type": "stream",
     "text": [
      "Collecting nltk\n",
      "  Using cached nltk-3.9.1-py3-none-any.whl.metadata (2.9 kB)\n",
      "Collecting click (from nltk)\n",
      "  Using cached click-8.2.1-py3-none-any.whl.metadata (2.5 kB)\n",
      "Requirement already satisfied: joblib in d:\\data_scentist\\machine_learning\\sentiment-analysis-\\env\\lib\\site-packages (from nltk) (1.5.2)\n",
      "Collecting regex>=2021.8.3 (from nltk)\n",
      "  Downloading regex-2025.7.34-cp312-cp312-win_amd64.whl.metadata (41 kB)\n",
      "Collecting tqdm (from nltk)\n",
      "  Using cached tqdm-4.67.1-py3-none-any.whl.metadata (57 kB)\n",
      "Collecting colorama (from click->nltk)\n",
      "  Using cached colorama-0.4.6-py2.py3-none-any.whl.metadata (17 kB)\n",
      "Using cached nltk-3.9.1-py3-none-any.whl (1.5 MB)\n",
      "Downloading regex-2025.7.34-cp312-cp312-win_amd64.whl (275 kB)\n",
      "Using cached click-8.2.1-py3-none-any.whl (102 kB)\n",
      "Using cached colorama-0.4.6-py2.py3-none-any.whl (25 kB)\n",
      "Using cached tqdm-4.67.1-py3-none-any.whl (78 kB)\n",
      "Installing collected packages: regex, colorama, tqdm, click, nltk\n",
      "\n",
      "   ---------------------------------------- 0/5 [regex]\n",
      "   -------- ------------------------------- 1/5 [colorama]\n",
      "   -------- ------------------------------- 1/5 [colorama]\n",
      "   ---------------- ----------------------- 2/5 [tqdm]\n",
      "   ---------------- ----------------------- 2/5 [tqdm]\n",
      "   ---------------- ----------------------- 2/5 [tqdm]\n",
      "   ---------------- ----------------------- 2/5 [tqdm]\n",
      "   ------------------------ --------------- 3/5 [click]\n",
      "   ------------------------ --------------- 3/5 [click]\n",
      "   ------------------------ --------------- 3/5 [click]\n",
      "   -------------------------------- ------- 4/5 [nltk]\n",
      "   -------------------------------- ------- 4/5 [nltk]\n",
      "   -------------------------------- ------- 4/5 [nltk]\n",
      "   -------------------------------- ------- 4/5 [nltk]\n",
      "   -------------------------------- ------- 4/5 [nltk]\n",
      "   -------------------------------- ------- 4/5 [nltk]\n",
      "   -------------------------------- ------- 4/5 [nltk]\n",
      "   -------------------------------- ------- 4/5 [nltk]\n",
      "   -------------------------------- ------- 4/5 [nltk]\n",
      "   -------------------------------- ------- 4/5 [nltk]\n",
      "   -------------------------------- ------- 4/5 [nltk]\n",
      "   -------------------------------- ------- 4/5 [nltk]\n",
      "   -------------------------------- ------- 4/5 [nltk]\n",
      "   -------------------------------- ------- 4/5 [nltk]\n",
      "   -------------------------------- ------- 4/5 [nltk]\n",
      "   -------------------------------- ------- 4/5 [nltk]\n",
      "   -------------------------------- ------- 4/5 [nltk]\n",
      "   -------------------------------- ------- 4/5 [nltk]\n",
      "   -------------------------------- ------- 4/5 [nltk]\n",
      "   -------------------------------- ------- 4/5 [nltk]\n",
      "   -------------------------------- ------- 4/5 [nltk]\n",
      "   -------------------------------- ------- 4/5 [nltk]\n",
      "   -------------------------------- ------- 4/5 [nltk]\n",
      "   -------------------------------- ------- 4/5 [nltk]\n",
      "   -------------------------------- ------- 4/5 [nltk]\n",
      "   -------------------------------- ------- 4/5 [nltk]\n",
      "   -------------------------------- ------- 4/5 [nltk]\n",
      "   -------------------------------- ------- 4/5 [nltk]\n",
      "   -------------------------------- ------- 4/5 [nltk]\n",
      "   -------------------------------- ------- 4/5 [nltk]\n",
      "   -------------------------------- ------- 4/5 [nltk]\n",
      "   -------------------------------- ------- 4/5 [nltk]\n",
      "   -------------------------------- ------- 4/5 [nltk]\n",
      "   -------------------------------- ------- 4/5 [nltk]\n",
      "   -------------------------------- ------- 4/5 [nltk]\n",
      "   -------------------------------- ------- 4/5 [nltk]\n",
      "   -------------------------------- ------- 4/5 [nltk]\n",
      "   -------------------------------- ------- 4/5 [nltk]\n",
      "   -------------------------------- ------- 4/5 [nltk]\n",
      "   -------------------------------- ------- 4/5 [nltk]\n",
      "   -------------------------------- ------- 4/5 [nltk]\n",
      "   -------------------------------- ------- 4/5 [nltk]\n",
      "   -------------------------------- ------- 4/5 [nltk]\n",
      "   -------------------------------- ------- 4/5 [nltk]\n",
      "   -------------------------------- ------- 4/5 [nltk]\n",
      "   -------------------------------- ------- 4/5 [nltk]\n",
      "   -------------------------------- ------- 4/5 [nltk]\n",
      "   -------------------------------- ------- 4/5 [nltk]\n",
      "   -------------------------------- ------- 4/5 [nltk]\n",
      "   ---------------------------------------- 5/5 [nltk]\n",
      "\n",
      "Successfully installed click-8.2.1 colorama-0.4.6 nltk-3.9.1 regex-2025.7.34 tqdm-4.67.1\n"
     ]
    },
    {
     "name": "stderr",
     "output_type": "stream",
     "text": [
      "\n",
      "[notice] A new release of pip is available: 25.1.1 -> 25.2\n",
      "[notice] To update, run: python.exe -m pip install --upgrade pip\n"
     ]
    }
   ],
   "source": [
    "# Remove the stopwards of the text like is, a ........\n",
    "!pip install nltk"
   ]
  },
  {
   "cell_type": "code",
   "execution_count": 18,
   "id": "1a2abf9f-95b9-4e9c-b40a-949e312d75ae",
   "metadata": {},
   "outputs": [],
   "source": [
    "import nltk"
   ]
  },
  {
   "cell_type": "code",
   "execution_count": 18,
   "id": "52a863a2-9dc3-4ec7-af0f-95baf6677bdd",
   "metadata": {},
   "outputs": [
    {
     "name": "stderr",
     "output_type": "stream",
     "text": [
      "[nltk_data] Downloading package stopwords to ../static/model...\n",
      "[nltk_data]   Unzipping corpora\\stopwords.zip.\n"
     ]
    },
    {
     "data": {
      "text/plain": [
       "True"
      ]
     },
     "execution_count": 18,
     "metadata": {},
     "output_type": "execute_result"
    }
   ],
   "source": [
    "# Download the stop wards\n",
    "nltk.download('stopwords', download_dir = '../static/model')"
   ]
  },
  {
   "cell_type": "code",
   "execution_count": 19,
   "id": "3c1ddada-46ba-4902-9d2d-895a4c6a5405",
   "metadata": {},
   "outputs": [],
   "source": [
    "# OK now import the stop wards\n",
    "with open ('../static/model/corpora/stopwords/english', 'r') as file:\n",
    "    sw = file.read().splitlines()   # By using \"Splitlines()\" We can get stop wards line by line "
   ]
  },
  {
   "cell_type": "code",
   "execution_count": 20,
   "id": "350f055d-3edd-4e64-8f19-8ceca72731c5",
   "metadata": {},
   "outputs": [
    {
     "data": {
      "text/plain": [
       "['a',\n",
       " 'about',\n",
       " 'above',\n",
       " 'after',\n",
       " 'again',\n",
       " 'against',\n",
       " 'ain',\n",
       " 'all',\n",
       " 'am',\n",
       " 'an',\n",
       " 'and',\n",
       " 'any',\n",
       " 'are',\n",
       " 'aren',\n",
       " \"aren't\",\n",
       " 'as',\n",
       " 'at',\n",
       " 'be',\n",
       " 'because',\n",
       " 'been',\n",
       " 'before',\n",
       " 'being',\n",
       " 'below',\n",
       " 'between',\n",
       " 'both',\n",
       " 'but',\n",
       " 'by',\n",
       " 'can',\n",
       " 'couldn',\n",
       " \"couldn't\",\n",
       " 'd',\n",
       " 'did',\n",
       " 'didn',\n",
       " \"didn't\",\n",
       " 'do',\n",
       " 'does',\n",
       " 'doesn',\n",
       " \"doesn't\",\n",
       " 'doing',\n",
       " 'don',\n",
       " \"don't\",\n",
       " 'down',\n",
       " 'during',\n",
       " 'each',\n",
       " 'few',\n",
       " 'for',\n",
       " 'from',\n",
       " 'further',\n",
       " 'had',\n",
       " 'hadn',\n",
       " \"hadn't\",\n",
       " 'has',\n",
       " 'hasn',\n",
       " \"hasn't\",\n",
       " 'have',\n",
       " 'haven',\n",
       " \"haven't\",\n",
       " 'having',\n",
       " 'he',\n",
       " \"he'd\",\n",
       " \"he'll\",\n",
       " 'her',\n",
       " 'here',\n",
       " 'hers',\n",
       " 'herself',\n",
       " \"he's\",\n",
       " 'him',\n",
       " 'himself',\n",
       " 'his',\n",
       " 'how',\n",
       " 'i',\n",
       " \"i'd\",\n",
       " 'if',\n",
       " \"i'll\",\n",
       " \"i'm\",\n",
       " 'in',\n",
       " 'into',\n",
       " 'is',\n",
       " 'isn',\n",
       " \"isn't\",\n",
       " 'it',\n",
       " \"it'd\",\n",
       " \"it'll\",\n",
       " \"it's\",\n",
       " 'its',\n",
       " 'itself',\n",
       " \"i've\",\n",
       " 'just',\n",
       " 'll',\n",
       " 'm',\n",
       " 'ma',\n",
       " 'me',\n",
       " 'mightn',\n",
       " \"mightn't\",\n",
       " 'more',\n",
       " 'most',\n",
       " 'mustn',\n",
       " \"mustn't\",\n",
       " 'my',\n",
       " 'myself',\n",
       " 'needn',\n",
       " \"needn't\",\n",
       " 'no',\n",
       " 'nor',\n",
       " 'not',\n",
       " 'now',\n",
       " 'o',\n",
       " 'of',\n",
       " 'off',\n",
       " 'on',\n",
       " 'once',\n",
       " 'only',\n",
       " 'or',\n",
       " 'other',\n",
       " 'our',\n",
       " 'ours',\n",
       " 'ourselves',\n",
       " 'out',\n",
       " 'over',\n",
       " 'own',\n",
       " 're',\n",
       " 's',\n",
       " 'same',\n",
       " 'shan',\n",
       " \"shan't\",\n",
       " 'she',\n",
       " \"she'd\",\n",
       " \"she'll\",\n",
       " \"she's\",\n",
       " 'should',\n",
       " 'shouldn',\n",
       " \"shouldn't\",\n",
       " \"should've\",\n",
       " 'so',\n",
       " 'some',\n",
       " 'such',\n",
       " 't',\n",
       " 'than',\n",
       " 'that',\n",
       " \"that'll\",\n",
       " 'the',\n",
       " 'their',\n",
       " 'theirs',\n",
       " 'them',\n",
       " 'themselves',\n",
       " 'then',\n",
       " 'there',\n",
       " 'these',\n",
       " 'they',\n",
       " \"they'd\",\n",
       " \"they'll\",\n",
       " \"they're\",\n",
       " \"they've\",\n",
       " 'this',\n",
       " 'those',\n",
       " 'through',\n",
       " 'to',\n",
       " 'too',\n",
       " 'under',\n",
       " 'until',\n",
       " 'up',\n",
       " 've',\n",
       " 'very',\n",
       " 'was',\n",
       " 'wasn',\n",
       " \"wasn't\",\n",
       " 'we',\n",
       " \"we'd\",\n",
       " \"we'll\",\n",
       " \"we're\",\n",
       " 'were',\n",
       " 'weren',\n",
       " \"weren't\",\n",
       " \"we've\",\n",
       " 'what',\n",
       " 'when',\n",
       " 'where',\n",
       " 'which',\n",
       " 'while',\n",
       " 'who',\n",
       " 'whom',\n",
       " 'why',\n",
       " 'will',\n",
       " 'with',\n",
       " 'won',\n",
       " \"won't\",\n",
       " 'wouldn',\n",
       " \"wouldn't\",\n",
       " 'y',\n",
       " 'you',\n",
       " \"you'd\",\n",
       " \"you'll\",\n",
       " 'your',\n",
       " \"you're\",\n",
       " 'yours',\n",
       " 'yourself',\n",
       " 'yourselves',\n",
       " \"you've\"]"
      ]
     },
     "execution_count": 20,
     "metadata": {},
     "output_type": "execute_result"
    }
   ],
   "source": [
    "sw"
   ]
  },
  {
   "cell_type": "code",
   "execution_count": 21,
   "id": "66bd74f7-3bb1-47a0-968f-a13fa77c6a50",
   "metadata": {},
   "outputs": [],
   "source": [
    "# Remove the stop wards \n",
    "data[\"tweet\"] = data[\"tweet\"].apply(lambda x: \" \".join(x for x in x.split() if x not in sw))\n",
    "\n",
    "# Mulinma split karanawa wachane, Ita passe if condition eken balanwa meka thiyanwada kiyala swset eke EKe nathi wachan witharak thiyagena anthimata join karanwa\n"
   ]
  },
  {
   "cell_type": "code",
   "execution_count": 22,
   "id": "bba71574-328e-4175-acbb-a73c65b84626",
   "metadata": {},
   "outputs": [
    {
     "data": {
      "text/html": [
       "<div>\n",
       "<style scoped>\n",
       "    .dataframe tbody tr th:only-of-type {\n",
       "        vertical-align: middle;\n",
       "    }\n",
       "\n",
       "    .dataframe tbody tr th {\n",
       "        vertical-align: top;\n",
       "    }\n",
       "\n",
       "    .dataframe thead th {\n",
       "        text-align: right;\n",
       "    }\n",
       "</style>\n",
       "<table border=\"1\" class=\"dataframe\">\n",
       "  <thead>\n",
       "    <tr style=\"text-align: right;\">\n",
       "      <th></th>\n",
       "      <th>id</th>\n",
       "      <th>label</th>\n",
       "      <th>tweet</th>\n",
       "    </tr>\n",
       "  </thead>\n",
       "  <tbody>\n",
       "    <tr>\n",
       "      <th>0</th>\n",
       "      <td>1</td>\n",
       "      <td>0</td>\n",
       "      <td>fingerprint pregnancy test android apps beauti...</td>\n",
       "    </tr>\n",
       "    <tr>\n",
       "      <th>1</th>\n",
       "      <td>2</td>\n",
       "      <td>0</td>\n",
       "      <td>finally transparant silicon case thanks uncle ...</td>\n",
       "    </tr>\n",
       "    <tr>\n",
       "      <th>2</th>\n",
       "      <td>3</td>\n",
       "      <td>0</td>\n",
       "      <td>love would go talk makememories unplug relax i...</td>\n",
       "    </tr>\n",
       "    <tr>\n",
       "      <th>3</th>\n",
       "      <td>4</td>\n",
       "      <td>0</td>\n",
       "      <td>wired know george made way iphone cute daventr...</td>\n",
       "    </tr>\n",
       "    <tr>\n",
       "      <th>4</th>\n",
       "      <td>5</td>\n",
       "      <td>1</td>\n",
       "      <td>amazing service apple even talk question unles...</td>\n",
       "    </tr>\n",
       "  </tbody>\n",
       "</table>\n",
       "</div>"
      ],
      "text/plain": [
       "   id  label                                              tweet\n",
       "0   1      0  fingerprint pregnancy test android apps beauti...\n",
       "1   2      0  finally transparant silicon case thanks uncle ...\n",
       "2   3      0  love would go talk makememories unplug relax i...\n",
       "3   4      0  wired know george made way iphone cute daventr...\n",
       "4   5      1  amazing service apple even talk question unles..."
      ]
     },
     "execution_count": 22,
     "metadata": {},
     "output_type": "execute_result"
    }
   ],
   "source": [
    "data.head()"
   ]
  },
  {
   "cell_type": "code",
   "execution_count": 23,
   "id": "1a71ff91-3eb3-4cc0-8518-675820e7e640",
   "metadata": {},
   "outputs": [],
   "source": [
    "# Do the strmming part( that mean same ward can be in the different format) \n",
    "from nltk.stem import PorterStemmer\n",
    "ps = PorterStemmer()\n",
    "# THis is fuction that create for NLP"
   ]
  },
  {
   "cell_type": "code",
   "execution_count": 24,
   "id": "55aba2c9-0f66-4efe-8a24-923f27c1019f",
   "metadata": {},
   "outputs": [],
   "source": [
    "data[\"tweet\"] = data[\"tweet\"].apply(lambda x: \" \".join(ps.stem(x) for x in x.split()))\n",
    "# Here we do first split the data in to parts(that mean in to wards). After pass all the data point inside the stem() class\n",
    "# After go through the class we can get basewaord. "
   ]
  },
  {
   "cell_type": "code",
   "execution_count": 25,
   "id": "77fd3654-ec85-43bb-84b4-22d70f2457d3",
   "metadata": {},
   "outputs": [
    {
     "data": {
      "text/html": [
       "<div>\n",
       "<style scoped>\n",
       "    .dataframe tbody tr th:only-of-type {\n",
       "        vertical-align: middle;\n",
       "    }\n",
       "\n",
       "    .dataframe tbody tr th {\n",
       "        vertical-align: top;\n",
       "    }\n",
       "\n",
       "    .dataframe thead th {\n",
       "        text-align: right;\n",
       "    }\n",
       "</style>\n",
       "<table border=\"1\" class=\"dataframe\">\n",
       "  <thead>\n",
       "    <tr style=\"text-align: right;\">\n",
       "      <th></th>\n",
       "      <th>id</th>\n",
       "      <th>label</th>\n",
       "      <th>tweet</th>\n",
       "    </tr>\n",
       "  </thead>\n",
       "  <tbody>\n",
       "    <tr>\n",
       "      <th>0</th>\n",
       "      <td>1</td>\n",
       "      <td>0</td>\n",
       "      <td>fingerprint pregnanc test android app beauti c...</td>\n",
       "    </tr>\n",
       "    <tr>\n",
       "      <th>1</th>\n",
       "      <td>2</td>\n",
       "      <td>0</td>\n",
       "      <td>final transpar silicon case thank uncl yay son...</td>\n",
       "    </tr>\n",
       "    <tr>\n",
       "      <th>2</th>\n",
       "      <td>3</td>\n",
       "      <td>0</td>\n",
       "      <td>love would go talk makememori unplug relax iph...</td>\n",
       "    </tr>\n",
       "    <tr>\n",
       "      <th>3</th>\n",
       "      <td>4</td>\n",
       "      <td>0</td>\n",
       "      <td>wire know georg made way iphon cute daventri home</td>\n",
       "    </tr>\n",
       "    <tr>\n",
       "      <th>4</th>\n",
       "      <td>5</td>\n",
       "      <td>1</td>\n",
       "      <td>amaz servic appl even talk question unless pay...</td>\n",
       "    </tr>\n",
       "  </tbody>\n",
       "</table>\n",
       "</div>"
      ],
      "text/plain": [
       "   id  label                                              tweet\n",
       "0   1      0  fingerprint pregnanc test android app beauti c...\n",
       "1   2      0  final transpar silicon case thank uncl yay son...\n",
       "2   3      0  love would go talk makememori unplug relax iph...\n",
       "3   4      0  wire know georg made way iphon cute daventri home\n",
       "4   5      1  amaz servic appl even talk question unless pay..."
      ]
     },
     "execution_count": 25,
     "metadata": {},
     "output_type": "execute_result"
    }
   ],
   "source": [
    "data.head()\n",
    "# So then final data set do not have upper letters,links,no puntuality, no numbers,no stopping wards and finally we only have base wards. "
   ]
  },
  {
   "cell_type": "code",
   "execution_count": 26,
   "id": "fdab8cac-7438-4ace-87cc-7293bf2c1467",
   "metadata": {},
   "outputs": [],
   "source": [
    "# So, the next thing is machine learning model can not identify this text values. So we need to identify thses as a numaricle value.\n",
    "# For that we need to create and vocabulary. vacabalary mens we get the hole data set and get the unique value that have.\n",
    "# After creating that we check each word with the each sentences. If that ward have put 1 other vise 0. That mean enery sentence become a vabalary lenght\n",
    "# features. That feature is become independent fetures for predic the dependant.\n"
   ]
  },
  {
   "cell_type": "markdown",
   "id": "89a4a730-016c-46b5-82bd-a036f2fdba51",
   "metadata": {},
   "source": [
    "#### Lets move in to the creating vocabulary and make the data set"
   ]
  },
  {
   "cell_type": "code",
   "execution_count": 26,
   "id": "a0a19af0-1e98-4904-9f20-94382999abfa",
   "metadata": {},
   "outputs": [],
   "source": [
    "from collections import Counter\n",
    "vocab = Counter()"
   ]
  },
  {
   "cell_type": "code",
   "execution_count": 27,
   "id": "e868a09e-edd1-4726-b49b-3d2d93d16dc3",
   "metadata": {},
   "outputs": [
    {
     "data": {
      "text/plain": [
       "Counter()"
      ]
     },
     "execution_count": 27,
     "metadata": {},
     "output_type": "execute_result"
    }
   ],
   "source": [
    "vocab"
   ]
  },
  {
   "cell_type": "code",
   "execution_count": 28,
   "id": "a80edaba-1045-42a7-9663-a810dae9b341",
   "metadata": {},
   "outputs": [],
   "source": [
    "for sentence in data['tweet']:  # In first line acess all the sentence one by one in the tweet colum\n",
    "    vocab.update(sentence.split())   # Then each sentence split in to wards and pass throught the vocab finction for identify the unique and get count it\n"
   ]
  },
  {
   "cell_type": "code",
   "execution_count": 30,
   "id": "ee1a2eef-9601-45f7-ba77-4cb46a61333f",
   "metadata": {},
   "outputs": [
    {
     "data": {
      "text/plain": [
       "15960"
      ]
     },
     "execution_count": 30,
     "metadata": {},
     "output_type": "execute_result"
    }
   ],
   "source": [
    "len(vocab) # This mean our data set is goint be the data set that comtain 16229 colums for each row . Becuse next we  have to to do vectorization"
   ]
  },
  {
   "cell_type": "code",
   "execution_count": 31,
   "id": "0baf5c95-1bd9-40cd-bd51-30880fe31c3f",
   "metadata": {},
   "outputs": [
    {
     "data": {
      "text/plain": [
       "(7920, 3)"
      ]
     },
     "execution_count": 31,
     "metadata": {},
     "output_type": "execute_result"
    }
   ],
   "source": [
    "data.shape"
   ]
  },
  {
   "cell_type": "code",
   "execution_count": null,
   "id": "0251a7a8-b39f-4b21-8b6b-1232da2e2998",
   "metadata": {},
   "outputs": [],
   "source": [
    "# ok now If I create data set as I said previously,Now there are dataset I got \n",
    "# 15960 colums(features) and 7920 Rows, Here is a problem that mean ourfeatures amount is way more \n",
    "# Accoding to the data points, So Here we can faced overfitting problem. To over come this we have to \n",
    "# Reduce the feature list\n",
    "# To overcome this I can do feature selection or Ican do remove the features that is less than 10 "
   ]
  },
  {
   "cell_type": "code",
   "execution_count": 32,
   "id": "5b7d17bd-33ca-46a9-8044-dc1658a492a7",
   "metadata": {},
   "outputs": [],
   "source": [
    "tokens = [key for key in vocab if vocab[key] > 10]  # Here above dataset is in the dictionary so we first acess the \n",
    "# Key and check the value if it is greater than 10 we add it into the token"
   ]
  },
  {
   "cell_type": "code",
   "execution_count": 33,
   "id": "b4567a4b-0e2d-4433-9d4c-a757fea77ef8",
   "metadata": {},
   "outputs": [
    {
     "data": {
      "text/plain": [
       "1169"
      ]
     },
     "execution_count": 33,
     "metadata": {},
     "output_type": "execute_result"
    }
   ],
   "source": [
    "len(tokens)  # So now over data set is become less now, it is kind good.  \n",
    "# This token is more valuble because when we input the data by using this vocabalary if is convart in to numarical "
   ]
  },
  {
   "cell_type": "code",
   "execution_count": 34,
   "id": "d476880f-35bd-406a-bceb-43a23b283065",
   "metadata": {},
   "outputs": [],
   "source": [
    "# Now we save this wards in alocal location, \n",
    "def save_vocabulary(lines, filename):   # There are two argument lines and filename\n",
    "    data = '\\n'.join(lines)\n",
    "    file = open(filename, 'w' , encoding = \"utf-8\")\n",
    "    file.write(data)\n",
    "    file.close()\n",
    "\n",
    "save_vocabulary(tokens, '../static/model/vocabulary.txt') # Call the function\n",
    "# By using this data set we can convart this data in to train and test "
   ]
  },
  {
   "cell_type": "code",
   "execution_count": 35,
   "id": "2ac8f6b2-2aac-4bdc-8bb3-376b0291fae7",
   "metadata": {},
   "outputs": [
    {
     "data": {
      "text/html": [
       "<div>\n",
       "<style scoped>\n",
       "    .dataframe tbody tr th:only-of-type {\n",
       "        vertical-align: middle;\n",
       "    }\n",
       "\n",
       "    .dataframe tbody tr th {\n",
       "        vertical-align: top;\n",
       "    }\n",
       "\n",
       "    .dataframe thead th {\n",
       "        text-align: right;\n",
       "    }\n",
       "</style>\n",
       "<table border=\"1\" class=\"dataframe\">\n",
       "  <thead>\n",
       "    <tr style=\"text-align: right;\">\n",
       "      <th></th>\n",
       "      <th>id</th>\n",
       "      <th>label</th>\n",
       "      <th>tweet</th>\n",
       "    </tr>\n",
       "  </thead>\n",
       "  <tbody>\n",
       "    <tr>\n",
       "      <th>0</th>\n",
       "      <td>1</td>\n",
       "      <td>0</td>\n",
       "      <td>fingerprint pregnanc test android app beauti c...</td>\n",
       "    </tr>\n",
       "    <tr>\n",
       "      <th>1</th>\n",
       "      <td>2</td>\n",
       "      <td>0</td>\n",
       "      <td>final transpar silicon case thank uncl yay son...</td>\n",
       "    </tr>\n",
       "    <tr>\n",
       "      <th>2</th>\n",
       "      <td>3</td>\n",
       "      <td>0</td>\n",
       "      <td>love would go talk makememori unplug relax iph...</td>\n",
       "    </tr>\n",
       "    <tr>\n",
       "      <th>3</th>\n",
       "      <td>4</td>\n",
       "      <td>0</td>\n",
       "      <td>wire know georg made way iphon cute daventri home</td>\n",
       "    </tr>\n",
       "    <tr>\n",
       "      <th>4</th>\n",
       "      <td>5</td>\n",
       "      <td>1</td>\n",
       "      <td>amaz servic appl even talk question unless pay...</td>\n",
       "    </tr>\n",
       "  </tbody>\n",
       "</table>\n",
       "</div>"
      ],
      "text/plain": [
       "   id  label                                              tweet\n",
       "0   1      0  fingerprint pregnanc test android app beauti c...\n",
       "1   2      0  final transpar silicon case thank uncl yay son...\n",
       "2   3      0  love would go talk makememori unplug relax iph...\n",
       "3   4      0  wire know georg made way iphon cute daventri home\n",
       "4   5      1  amaz servic appl even talk question unless pay..."
      ]
     },
     "execution_count": 35,
     "metadata": {},
     "output_type": "execute_result"
    }
   ],
   "source": [
    "data.head()"
   ]
  },
  {
   "cell_type": "markdown",
   "id": "6a73c53a-9f85-4710-ba0e-b9bcc83cc976",
   "metadata": {},
   "source": [
    "#### Now move on to the feature enginearing part\n"
   ]
  },
  {
   "cell_type": "code",
   "execution_count": 36,
   "id": "cf9e99c7-c325-44c4-a826-791fd9bee4f2",
   "metadata": {},
   "outputs": [
    {
     "data": {
      "text/plain": [
       "(0    fingerprint pregnanc test android app beauti c...\n",
       " 1    final transpar silicon case thank uncl yay son...\n",
       " 2    love would go talk makememori unplug relax iph...\n",
       " 3    wire know georg made way iphon cute daventri home\n",
       " 4    amaz servic appl even talk question unless pay...\n",
       " Name: tweet, dtype: object,\n",
       " 0    0\n",
       " 1    0\n",
       " 2    0\n",
       " 3    0\n",
       " 4    1\n",
       " Name: label, dtype: int64)"
      ]
     },
     "execution_count": 36,
     "metadata": {},
     "output_type": "execute_result"
    }
   ],
   "source": [
    "y = data['label']\n",
    "x = data['tweet']\n",
    "x.head(),y.head()"
   ]
  },
  {
   "cell_type": "code",
   "execution_count": 37,
   "id": "8b6193b5-6491-4be3-9f04-bcfd483646a5",
   "metadata": {},
   "outputs": [],
   "source": [
    "# now devide data set into testand train part \n",
    "from sklearn.model_selection import train_test_split\n",
    "x_train,x_test,y_train,y_test = train_test_split(x,y,test_size= 0.2)\n"
   ]
  },
  {
   "cell_type": "code",
   "execution_count": 38,
   "id": "6291e8f3-a99f-4af2-ae6b-f8ef56731096",
   "metadata": {},
   "outputs": [
    {
     "data": {
      "text/plain": [
       "((6336,), (1584,))"
      ]
     },
     "execution_count": 38,
     "metadata": {},
     "output_type": "execute_result"
    }
   ],
   "source": [
    "x_train.shape,x_test.shape"
   ]
  },
  {
   "cell_type": "code",
   "execution_count": 39,
   "id": "7a6a7d06-a450-40eb-93d1-b1adaac2371a",
   "metadata": {},
   "outputs": [],
   "source": [
    "# Ok before build the model I have to concert the catergarical varible in to the numarical\n",
    "def vectorization(ds, vocabulary):  # enter the data set and vobulary \n",
    "    vectorized_lst = []   # create empty set after fill this and got as output \n",
    "\n",
    "    for sentence in ds:     \n",
    "        sentence_lst = np.zeros(len(vocabulary))  # By going one by one of and our sentence and make the array have zeros\n",
    "\n",
    "        for i in range (len(vocabulary)):   # Then we check the sentence and vocabiulary,\n",
    "            if vocabulary[i] in sentence.split():  # If sentence have that ward put 1 otherwise put zero\n",
    "                sentence_lst[i] = 1\n",
    "\n",
    "        vectorized_lst.append(sentence_lst)  # After one sentence append that into the vectorized lst \n",
    "\n",
    "    vectorized_lst_new = np.asarray(vectorized_lst, dtype=np.float32)\n",
    "    return(vectorized_lst_new)\n",
    "            "
   ]
  },
  {
   "cell_type": "code",
   "execution_count": 40,
   "id": "e5c98fd9-b88e-4c62-8f9d-bf346667734f",
   "metadata": {},
   "outputs": [],
   "source": [
    "# Convart the train_data set into vectorization, Now our data set is vectorized\n",
    "vectorizes_x_train = vectorization(x_train,tokens)"
   ]
  },
  {
   "cell_type": "code",
   "execution_count": 41,
   "id": "342716ff-b6db-46ec-a10f-a485fc68031e",
   "metadata": {},
   "outputs": [],
   "source": [
    "# Convart the test_data_set into numarical\n",
    "vectorizes_x_test = vectorization(x_test,tokens)"
   ]
  },
  {
   "cell_type": "code",
   "execution_count": 42,
   "id": "5fd8ec30-417f-40a2-9500-ca8f08a94803",
   "metadata": {},
   "outputs": [
    {
     "data": {
      "text/plain": [
       "label\n",
       "0    4732\n",
       "1    1604\n",
       "Name: count, dtype: int64"
      ]
     },
     "execution_count": 42,
     "metadata": {},
     "output_type": "execute_result"
    }
   ],
   "source": [
    "y_train.value_counts()"
   ]
  },
  {
   "cell_type": "code",
   "execution_count": 43,
   "id": "b00d1e7b-26fc-4041-8fad-8115caf053a5",
   "metadata": {},
   "outputs": [
    {
     "data": {
      "text/plain": [
       "([<matplotlib.patches.Wedge at 0x138d0ad3f80>,\n",
       "  <matplotlib.patches.Wedge at 0x138d0620d70>],\n",
       " [Text(-0.77006608524448, 0.7854923451926452, 'Positive'),\n",
       "  Text(0.7700661539144015, -0.7854922778713243, 'Negative')])"
      ]
     },
     "execution_count": 43,
     "metadata": {},
     "output_type": "execute_result"
    },
    {
     "data": {
      "image/png": "[encoded data removed]",
      "text/plain": [
       "<Figure size 640x480 with 1 Axes>"
      ]
     },
     "metadata": {},
     "output_type": "display_data"
    }
   ],
   "source": [
    "plt.pie(np.array([y_train.value_counts()[0], y_train.value_counts()[1]]),labels = ['Positive','Negative'])\n",
    "# In such kind of binary calssification in dat set is not balance this model can be bias to the class that \n",
    "# Have more data points So, I have to overcome this.., For that we have to balance this "
   ]
  },
  {
   "cell_type": "markdown",
   "id": "e44eef9b-904f-453e-a9cb-6912a3978ca9",
   "metadata": {},
   "source": [
    "####  So here have to haddle this, unbalanced dataset."
   ]
  },
  {
   "cell_type": "code",
   "execution_count": 44,
   "id": "37a6f038-dbaa-4460-840e-4d244bb82da7",
   "metadata": {},
   "outputs": [
    {
     "data": {
      "text/plain": [
       "((9464, 1169), (9464,))"
      ]
     },
     "execution_count": 44,
     "metadata": {},
     "output_type": "execute_result"
    }
   ],
   "source": [
    "# For haddle this I used SMOTE technique for this \n",
    "from imblearn.over_sampling import SMOTE\n",
    "smote = SMOTE()\n",
    "vectorized_x_train_smote, y_train_smote = smote.fit_resample(vectorizes_x_train,y_train)\n",
    "vectorized_x_train_smote.shape , y_train_smote.shape"
   ]
  },
  {
   "cell_type": "code",
   "execution_count": 45,
   "id": "d7d32b3a-b9f4-4a67-b55c-e32d8abb795d",
   "metadata": {},
   "outputs": [
    {
     "data": {
      "text/plain": [
       "label\n",
       "0    4732\n",
       "1    4732\n",
       "Name: count, dtype: int64"
      ]
     },
     "execution_count": 45,
     "metadata": {},
     "output_type": "execute_result"
    }
   ],
   "source": [
    "y_train_smote.value_counts()"
   ]
  },
  {
   "cell_type": "code",
   "execution_count": 46,
   "id": "3b9a014e-763b-4552-9130-4a5420e84e06",
   "metadata": {},
   "outputs": [
    {
     "data": {
      "text/plain": [
       "([<matplotlib.patches.Wedge at 0x138d0b7cda0>,\n",
       "  <matplotlib.patches.Wedge at 0x138d8fe4800>],\n",
       " [Text(-4.8082529002048655e-08, 1.099999999999999, 'Positive'),\n",
       "  Text(1.311736850028664e-08, -1.0999999999999999, 'Negative')])"
      ]
     },
     "execution_count": 46,
     "metadata": {},
     "output_type": "execute_result"
    },
    {
     "data": {
      "image/png": "[encoded data removed]",
      "text/plain": [
       "<Figure size 640x480 with 1 Axes>"
      ]
     },
     "metadata": {},
     "output_type": "display_data"
    }
   ],
   "source": [
    "plt.pie(np.array([y_train_smote.value_counts()[0], y_train_smote.value_counts()[1]]),labels = ['Positive','Negative'])\n",
    "# Ok now , Train data set is balanced, "
   ]
  },
  {
   "cell_type": "code",
   "execution_count": null,
   "id": "88abc17e-7e9d-447a-abc0-8c9858df61c1",
   "metadata": {},
   "outputs": [],
   "source": [
    "# So here we can used to build the model\n",
    "vectorized_x_train_smote\n",
    "y_train_smote \n",
    "# For test we used \n",
    "vectorizes_x_test\n",
    "y_test\n",
    "# Ok this is the end of the feature enginearing parts ok now letsmove on to the model building part"
   ]
  },
  {
   "cell_type": "markdown",
   "id": "b5a5f83a-3dab-44c6-9803-448d6f6d915e",
   "metadata": {},
   "source": [
    "### Model building and  evaluating the model "
   ]
  },
  {
   "cell_type": "code",
   "execution_count": 47,
   "id": "107239e8-9263-40f0-809a-0ee9b6ccb037",
   "metadata": {},
   "outputs": [],
   "source": [
    "# First I import the  all the algorithams I amgoing to used hear \n",
    "from sklearn.linear_model import LogisticRegression\n",
    "from sklearn.naive_bayes import MultinomialNB\n",
    "from sklearn.tree import DecisionTreeClassifier\n",
    "from sklearn.ensemble import RandomForestClassifier\n",
    "from sklearn.svm import SVC"
   ]
  },
  {
   "cell_type": "code",
   "execution_count": 48,
   "id": "212e4faf-3f19-4b43-86c1-902851948e9e",
   "metadata": {},
   "outputs": [],
   "source": [
    "# Then I am creating function to evaluate this each algoritham \n",
    "from sklearn.metrics import accuracy_score, f1_score,precision_score, recall_score\n",
    "def training_scores(y_act,y_pred):\n",
    "    act = round(accuracy_score(y_act,y_pred),3)\n",
    "    pr = round(precision_score(y_act, y_pred),3)\n",
    "    rec = round(recall_score(y_act, y_pred),3)\n",
    "    f1 = round(f1_score(y_act,y_pred),3)\n",
    "    print(f'Training Score:\\n\\tAccuracy = {act}\\n\\tPrecision = {pr}\\n\\tRecall = {rec}\\n\\t F1-Score = {f1}')\n",
    "\n",
    "def validation(y_act,y_pred):\n",
    "    act = round(accuracy_score(y_act,y_pred),3)\n",
    "    pr = round(precision_score(y_act, y_pred),3)\n",
    "    rec = round(recall_score(y_act, y_pred),3)\n",
    "    f1 = round(f1_score(y_act,y_pred),3)\n",
    "    print(f'Testing Score:\\n\\tAccuracy = {act}\\n\\tPrecision = {pr}\\n\\tRecall = {rec}\\n\\t F1-Score = {f1}')\n",
    "\n"
   ]
  },
  {
   "cell_type": "markdown",
   "id": "a49e373d-8d0e-4cb0-9656-c367a71118c3",
   "metadata": {},
   "source": [
    "#### Logistic Regression"
   ]
  },
  {
   "cell_type": "code",
   "execution_count": 49,
   "id": "91f39836-96fd-42e3-b62f-19278f49a747",
   "metadata": {},
   "outputs": [
    {
     "name": "stdout",
     "output_type": "stream",
     "text": [
      "Training Score:\n",
      "\tAccuracy = 0.945\n",
      "\tPrecision = 0.918\n",
      "\tRecall = 0.977\n",
      "\t F1-Score = 0.947\n",
      "Testing Score:\n",
      "\tAccuracy = 0.866\n",
      "\tPrecision = 0.705\n",
      "\tRecall = 0.855\n",
      "\t F1-Score = 0.773\n"
     ]
    }
   ],
   "source": [
    "#### Build the model by using Logistic regression\n",
    "\n",
    "lr = LogisticRegression()\n",
    "lr.fit(vectorized_x_train_smote,y_train_smote)\n",
    "\n",
    "# Predict the values for trining data set and check the training accuracy\n",
    "y_train_pred = lr.predict(vectorized_x_train_smote)\n",
    "training_scores(y_train_smote,y_train_pred)\n",
    "\n",
    "# Predict the values for testing data set and check the training accuracy\n",
    "y_test_predict = lr.predict(vectorizes_x_test)\n",
    "validation(y_test,y_test_predict)\n",
    "# THis is kind a overfitting to avoid that we can reduce some features "
   ]
  },
  {
   "cell_type": "markdown",
   "id": "72cd318d-8d37-41a3-91cc-a02cf1eb35f9",
   "metadata": {},
   "source": [
    "#### Naive Bayes"
   ]
  },
  {
   "cell_type": "code",
   "execution_count": 50,
   "id": "49f476cb-0e02-47fc-93b4-7ab38e389ccd",
   "metadata": {},
   "outputs": [
    {
     "name": "stdout",
     "output_type": "stream",
     "text": [
      "Training Score:\n",
      "\tAccuracy = 0.907\n",
      "\tPrecision = 0.873\n",
      "\tRecall = 0.954\n",
      "\t F1-Score = 0.912\n",
      "Testing Score:\n",
      "\tAccuracy = 0.86\n",
      "\tPrecision = 0.678\n",
      "\tRecall = 0.908\n",
      "\t F1-Score = 0.776\n"
     ]
    }
   ],
   "source": [
    "mnb = MultinomialNB()\n",
    "mnb.fit(vectorized_x_train_smote,y_train_smote)\n",
    "\n",
    "# Predict the values for trining data set and check the training accuracy\n",
    "y_train_pred = mnb.predict(vectorized_x_train_smote)\n",
    "training_scores(y_train_smote,y_train_pred)\n",
    "\n",
    "# Predict the values for testing data set and check the training accuracy\n",
    "y_test_predict = mnb.predict(vectorizes_x_test)\n",
    "validation(y_test,y_test_predict)\n",
    "# Up to this stage Naive Logistic regresion is kindly good. "
   ]
  },
  {
   "cell_type": "markdown",
   "id": "db750406-95ca-4524-b523-5c0af0157c51",
   "metadata": {},
   "source": [
    "#### Decesion tree "
   ]
  },
  {
   "cell_type": "code",
   "execution_count": 51,
   "id": "d9c2c268-1cd7-4762-a0d0-0ddad9251404",
   "metadata": {},
   "outputs": [
    {
     "name": "stdout",
     "output_type": "stream",
     "text": [
      "Training Score:\n",
      "\tAccuracy = 1.0\n",
      "\tPrecision = 1.0\n",
      "\tRecall = 0.999\n",
      "\t F1-Score = 1.0\n",
      "Testing Score:\n",
      "\tAccuracy = 0.819\n",
      "\tPrecision = 0.658\n",
      "\tRecall = 0.666\n",
      "\t F1-Score = 0.662\n"
     ]
    }
   ],
   "source": [
    "DT = DecisionTreeClassifier()\n",
    "DT.fit(vectorized_x_train_smote,y_train_smote)\n",
    "\n",
    "# Predict the values for trining data set and check the training accuracy\n",
    "y_train_pred = DT.predict(vectorized_x_train_smote)\n",
    "training_scores(y_train_smote,y_train_pred)\n",
    "\n",
    "# Predict the values for testing data set and check the training accuracy\n",
    "y_test_predict = DT.predict(vectorizes_x_test)\n",
    "validation(y_test,y_test_predict)\n",
    "# This is overfitting , here problem could be our features are too much or recodeds are limited "
   ]
  },
  {
   "cell_type": "markdown",
   "id": "3c15df9e-b672-410d-92fa-4a1afa5ecd14",
   "metadata": {},
   "source": [
    "#### Randam forest "
   ]
  },
  {
   "cell_type": "code",
   "execution_count": 52,
   "id": "68790142-2eac-451e-b6fb-a43d00d9cc52",
   "metadata": {},
   "outputs": [
    {
     "name": "stdout",
     "output_type": "stream",
     "text": [
      "Training Score:\n",
      "\tAccuracy = 1.0\n",
      "\tPrecision = 0.999\n",
      "\tRecall = 1.0\n",
      "\t F1-Score = 1.0\n",
      "Testing Score:\n",
      "\tAccuracy = 0.864\n",
      "\tPrecision = 0.746\n",
      "\tRecall = 0.739\n",
      "\t F1-Score = 0.743\n"
     ]
    }
   ],
   "source": [
    "RF = RandomForestClassifier()\n",
    "RF.fit(vectorized_x_train_smote,y_train_smote)\n",
    "\n",
    "# Predict the values for trining data set and check the training accuracy\n",
    "y_train_pred = RF.predict(vectorized_x_train_smote)\n",
    "training_scores(y_train_smote,y_train_pred)\n",
    "\n",
    "# Predict the values for testing data set and check the training accuracy\n",
    "y_test_predict = RF.predict(vectorizes_x_test)\n",
    "validation(y_test,y_test_predict)\n",
    "\n"
   ]
  },
  {
   "cell_type": "markdown",
   "id": "b790c02f-7712-4a38-8784-d0a4d4f3a32c",
   "metadata": {},
   "source": [
    "#### SVM "
   ]
  },
  {
   "cell_type": "code",
   "execution_count": 91,
   "id": "c9645591-71f9-4923-9c0a-9449f000c878",
   "metadata": {},
   "outputs": [
    {
     "name": "stdout",
     "output_type": "stream",
     "text": [
      "Training Score:\n",
      "\tAccuracy = 0.979\n",
      "\tPrecision = 0.962\n",
      "\tRecall = 0.996\n",
      "\t F1-Score = 0.979\n",
      "Testing Score:\n",
      "\tAccuracy = 0.881\n",
      "\tPrecision = 0.756\n",
      "\tRecall = 0.807\n",
      "\t F1-Score = 0.78\n"
     ]
    }
   ],
   "source": [
    "SV = SVC()\n",
    "SV.fit(vectorized_x_train_smote,y_train_smote)\n",
    "\n",
    "# Predict the values for trining data set and check the training accuracy\n",
    "y_train_pred = SV.predict(vectorized_x_train_smote)\n",
    "training_scores(y_train_smote,y_train_pred)\n",
    "\n",
    "# Predict the values for testing data set and check the training accuracy\n",
    "y_test_predict = SV.predict(vectorizes_x_test)\n",
    "validation(y_test,y_test_predict)"
   ]
  },
  {
   "cell_type": "code",
   "execution_count": null,
   "id": "54e9411d-3a67-4179-b41f-9b15960e5519",
   "metadata": {},
   "outputs": [],
   "source": [
    "# I can develop the model future. Hyper parameteric tuning. Up to go ahead Do this "
   ]
  },
  {
   "cell_type": "code",
   "execution_count": 54,
   "id": "afee7e36-5699-44d2-a0d2-acaece97b05d",
   "metadata": {},
   "outputs": [],
   "source": [
    "import pickle \n",
    "with open('../static/model/model.pickle','wb') as file:\n",
    "    pickle.dump(mnb, file)"
   ]
  }
 ],
 "metadata": {
  "kernelspec": {
   "display_name": "Python 3 (ipykernel)",
   "language": "python",
   "name": "python3"
  },
  "language_info": {
   "codemirror_mode": {
    "name": "ipython",
    "version": 3
   },
   "file_extension": ".py",
   "mimetype": "text/x-python",
   "name": "python",
   "nbconvert_exporter": "python",
   "pygments_lexer": "ipython3",
   "version": "3.12.6"
  }
 },
 "nbformat": 4,
 "nbformat_minor": 5
}
