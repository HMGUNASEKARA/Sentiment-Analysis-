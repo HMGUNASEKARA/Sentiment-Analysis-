{
 "cells": [
  {
   "cell_type": "code",
   "execution_count": 1,
   "id": "01c5c3b1-6d85-4986-8ff9-ba67e0b67f63",
   "metadata": {},
   "outputs": [],
   "source": [
    "import pandas as pd \n",
    "import numpy as np \n",
    "import re    \n",
    "import string\n",
    "import nltk\n",
    "import pickle"
   ]
  },
  {
   "cell_type": "code",
   "execution_count": 3,
   "id": "29e30fdb-6e73-4fa9-ac47-958238960a4a",
   "metadata": {},
   "outputs": [],
   "source": [
    "with open('../static/model/model.pickle','rb') as f:\n",
    "    model = pickle.load(f)"
   ]
  },
  {
   "cell_type": "code",
   "execution_count": 4,
   "id": "27818eca-87d0-48f0-a404-85cbcb26ec74",
   "metadata": {},
   "outputs": [],
   "source": [
    "# Ok the I need my dictunary to do vecterization \n",
    "vocab = pd.read_csv('../static/model/vocabulary.txt', header = None)\n",
    "tokens = vocab[0].tolist() #  Convart the vocabulary in to regular python list"
   ]
  },
  {
   "cell_type": "code",
   "execution_count": 5,
   "id": "d2b2fd64-67a3-4887-8c34-37626a46465d",
   "metadata": {},
   "outputs": [],
   "source": [
    "# Foe remove the punctuations(wirama lakunu) \n",
    "def remove_punctuations(text):\n",
    "    for punctuation in string.punctuation:   # THis mean for loop go one by one in string. punctuation and check  is ther are same \n",
    "        text = text.replace(punctuation, ' ')   # If find that kind of equation then remove that value and replace with  nuthing \n",
    "    return text "
   ]
  },
  {
   "cell_type": "code",
   "execution_count": 6,
   "id": "472cdea2-5514-467b-87ba-026627d95401",
   "metadata": {},
   "outputs": [],
   "source": [
    "# To remove the stop wards \n",
    "with open ('../static/model/corpora/stopwords/english', 'r') as file:\n",
    "    sw = file.read().splitlines()"
   ]
  },
  {
   "cell_type": "code",
   "execution_count": 8,
   "id": "ca769592-36fa-4364-8317-6a29e629e49d",
   "metadata": {},
   "outputs": [],
   "source": [
    "# For do the stemming \n",
    "from nltk.stem import PorterStemmer\n",
    "ps = PorterStemmer()"
   ]
  },
  {
   "cell_type": "markdown",
   "id": "62dabcb0-146f-4fbd-8e84-becbbbfd60ac",
   "metadata": {},
   "source": [
    "#### Text preprocessing "
   ]
  },
  {
   "cell_type": "code",
   "execution_count": 9,
   "id": "d8858146-aa4b-4858-b393-f6a44b89ce07",
   "metadata": {},
   "outputs": [],
   "source": [
    "def preprocessing(text):\n",
    "    data = pd.DataFrame([text],columns = ['tweet'])\n",
    "    # If input text have upper case we have to convart it in to the lower case\n",
    "    data[\"tweet\"] = data[\"tweet\"].apply(lambda x: \" \".join(x.lower() for x in x.split()))\n",
    "    # Remove the links if there is an links \n",
    "    data[\"tweet\"] = data['tweet'].apply(lambda x: \" \".join(re.sub(r'^https?:\\/\\/.*[\\r\\n]*', '', x, flags=re.MULTILINE) for x in x.split()))\n",
    "    # Remove punctuations \n",
    "    data[\"tweet\"] = data[\"tweet\"].apply(remove_punctuations)\n",
    "    # Remove the numbers \n",
    "    data[\"tweet\"] = data['tweet'].str.replace(r'\\d+', '', regex=True)\n",
    "    # Remove the stop wards \n",
    "    data[\"tweet\"] = data[\"tweet\"].apply(lambda x: \" \".join(x for x in x.split() if x not in sw))\n",
    "    # Apply the stemming \n",
    "    data[\"tweet\"] = data[\"tweet\"].apply(lambda x: \" \".join(ps.stem(x) for x in x.split()))\n",
    "    return data[\"tweet\"]"
   ]
  },
  {
   "cell_type": "code",
   "execution_count": 10,
   "id": "6dce2e53-86a1-42a5-8fde-0ddb49afeee3",
   "metadata": {},
   "outputs": [],
   "source": [
    "def vectorization(ds, vocabulary):  # enter the data set and vobulary \n",
    "    vectorized_lst = []   # create empty set after fill this and got as output \n",
    "\n",
    "    for sentence in ds:     \n",
    "        sentence_lst = np.zeros(len(vocabulary))  # By going one by one of and our sentence and make the array have zeros\n",
    "\n",
    "        for i in range (len(vocabulary)):   # Then we check the sentence and vocabiulary,\n",
    "            if vocabulary[i] in sentence.split():  # If sentence have that ward put 1 otherwise put zero\n",
    "                sentence_lst[i] = 1\n",
    "\n",
    "        vectorized_lst.append(sentence_lst)  # After one sentence append that into the vectorized lst \n",
    "\n",
    "    vectorized_lst_new = np.asarray(vectorized_lst, dtype=np.float32)\n",
    "    return(vectorized_lst_new)"
   ]
  },
  {
   "cell_type": "code",
   "execution_count": 11,
   "id": "d269f23d-1ccc-4568-b433-3b4d1354fd99",
   "metadata": {},
   "outputs": [],
   "source": [
    "def get_prediction (text):\n",
    "    prediction = model.predict(text)\n",
    "    if prediction ==1:\n",
    "        return 'Negative'\n",
    "    else:\n",
    "        return 'Positive'\n",
    "    "
   ]
  },
  {
   "cell_type": "code",
   "execution_count": 12,
   "id": "c9d15a6d-f659-4bdc-85b1-3dfa66c49e9f",
   "metadata": {},
   "outputs": [
    {
     "data": {
      "text/plain": [
       "'Positive'"
      ]
     },
     "execution_count": 12,
     "metadata": {},
     "output_type": "execute_result"
    }
   ],
   "source": [
    "#txt = 'Great awesome product'\n",
    "#txt = 'Bad product'\n",
    "txt = ' Awesome product . I love it'\n",
    "Preproceed_text = preprocessing(txt)\n",
    "vecterized_text = vectorization(Preproceed_text,tokens)\n",
    "Final_predict = get_prediction(vecterized_text )\n",
    "Final_predict"
   ]
  }
 ],
 "metadata": {
  "kernelspec": {
   "display_name": "Python 3 (ipykernel)",
   "language": "python",
   "name": "python3"
  },
  "language_info": {
   "codemirror_mode": {
    "name": "ipython",
    "version": 3
   },
   "file_extension": ".py",
   "mimetype": "text/x-python",
   "name": "python",
   "nbconvert_exporter": "python",
   "pygments_lexer": "ipython3",
   "version": "3.12.6"
  }
 },
 "nbformat": 4,
 "nbformat_minor": 5
}
